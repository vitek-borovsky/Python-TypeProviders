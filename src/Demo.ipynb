{
 "cells": [
  {
   "cell_type": "code",
   "execution_count": 1,
   "id": "23199de0",
   "metadata": {},
   "outputs": [],
   "source": [
    "from sql_parsing.recordBuilder import RecordBuilder as RB\n",
    "from TypeProvider import SqlTypeProvider\n",
    "\n",
    "import psycopg2"
   ]
  },
  {
   "cell_type": "code",
   "execution_count": 2,
   "id": "92885437",
   "metadata": {},
   "outputs": [],
   "source": [
    "connection = psycopg2.connect(\n",
    "    user=\"postgres\",\n",
    "    password=\"\",\n",
    "    # host=\"localhost\",\n",
    "    port=\"5432\", # default port\n",
    "    database=\"mydatabase\")\n",
    "\n",
    "cursor = connection.cursor()\n",
    "\n",
    "cmd = \"\"\"\n",
    "SELECT * FROM employees;\n",
    "\"\"\"\n",
    "\n",
    "providedType = SqlTypeProvider.Provide(connection, cmd)"
   ]
  },
  {
   "cell_type": "code",
   "execution_count": 3,
   "id": "5d38a5b4",
   "metadata": {},
   "outputs": [],
   "source": [
    "cursor.execute(cmd)\n",
    "response_typed = providedType(*cursor.fetchone())    "
   ]
  },
  {
   "cell_type": "code",
   "execution_count": null,
   "id": "02e0b6d8",
   "metadata": {},
   "outputs": [],
   "source": [
    "response_typed."
   ]
  }
 ],
 "metadata": {
  "kernelspec": {
   "display_name": "Python 3 (ipykernel)",
   "language": "python",
   "name": "python3"
  },
  "language_info": {
   "codemirror_mode": {
    "name": "ipython",
    "version": 3
   },
   "file_extension": ".py",
   "mimetype": "text/x-python",
   "name": "python",
   "nbconvert_exporter": "python",
   "pygments_lexer": "ipython3",
   "version": "3.10.13"
  }
 },
 "nbformat": 4,
 "nbformat_minor": 5
}
