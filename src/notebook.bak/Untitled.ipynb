{
 "cells": [
  {
   "cell_type": "code",
   "execution_count": 19,
   "id": "f31ef64e",
   "metadata": {},
   "outputs": [
    {
     "name": "stdout",
     "output_type": "stream",
     "text": [
      "Writing ./pretty_magic.py\n"
     ]
    }
   ],
   "source": [
    "%%writefile ./pretty_magic.py\n",
    "\n",
    "def pretty_print(msg):\n",
    "    print(f\"My msg is: '{msg}'\")\n",
    "    \n",
    "def load_ipython_extension(ipython):\n",
    "    ipython.register_magic_function(pretty_print, 'line')\n",
    "    \n"
   ]
  },
  {
   "cell_type": "code",
   "execution_count": 20,
   "id": "15fb5236",
   "metadata": {},
   "outputs": [],
   "source": [
    "import sys\n",
    "\n",
    "sys.path.append('.')\n",
    "\n",
    "%load_ext pretty_magic"
   ]
  },
  {
   "cell_type": "code",
   "execution_count": 21,
   "id": "322d1a22",
   "metadata": {},
   "outputs": [
    {
     "name": "stdout",
     "output_type": "stream",
     "text": [
      "My msg is: 'nice message'\n"
     ]
    }
   ],
   "source": [
    "%pretty_print nice message"
   ]
  },
  {
   "cell_type": "code",
   "execution_count": 16,
   "id": "827aa643",
   "metadata": {},
   "outputs": [],
   "source": []
  },
  {
   "cell_type": "code",
   "execution_count": 18,
   "id": "dd8867a0",
   "metadata": {},
   "outputs": [
    {
     "name": "stdout",
     "output_type": "stream",
     "text": [
      "My msg is this is message\n"
     ]
    }
   ],
   "source": []
  },
  {
   "cell_type": "code",
   "execution_count": null,
   "id": "120a6fb0",
   "metadata": {},
   "outputs": [],
   "source": []
  }
 ],
 "metadata": {
  "kernelspec": {
   "display_name": "Python 3",
   "language": "python",
   "name": "python3"
  },
  "language_info": {
   "codemirror_mode": {
    "name": "ipython",
    "version": 3
   },
   "file_extension": ".py",
   "mimetype": "text/x-python",
   "name": "python",
   "nbconvert_exporter": "python",
   "pygments_lexer": "ipython3",
   "version": "3.10.13"
  }
 },
 "nbformat": 4,
 "nbformat_minor": 5
}
